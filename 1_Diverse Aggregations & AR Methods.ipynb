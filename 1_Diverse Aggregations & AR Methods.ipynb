{
 "cells": [
  {
   "cell_type": "code",
   "execution_count": 1,
   "metadata": {},
   "outputs": [
    {
     "name": "stderr",
     "output_type": "stream",
     "text": [
      "/Users/mehrnazakbari/.pyenv/versions/3.7.3/lib/python3.7/site-packages/pandas/compat/__init__.py:117: UserWarning: Could not import the lzma module. Your installed Python is incomplete. Attempting to use lzma compression will result in a RuntimeError.\n",
      "  warnings.warn(msg)\n"
     ]
    },
    {
     "ename": "ModuleNotFoundError",
     "evalue": "No module named 'seaborn'",
     "output_type": "error",
     "traceback": [
      "\u001b[0;31m---------------------------------------------------------------------------\u001b[0m",
      "\u001b[0;31mModuleNotFoundError\u001b[0m                       Traceback (most recent call last)",
      "\u001b[0;32m<ipython-input-1-197288542e2b>\u001b[0m in \u001b[0;36m<module>\u001b[0;34m\u001b[0m\n\u001b[1;32m      4\u001b[0m \u001b[0;32mimport\u001b[0m \u001b[0mmatplotlib\u001b[0m\u001b[0;34m.\u001b[0m\u001b[0mpyplot\u001b[0m \u001b[0;32mas\u001b[0m \u001b[0mplt\u001b[0m\u001b[0;34m\u001b[0m\u001b[0;34m\u001b[0m\u001b[0m\n\u001b[1;32m      5\u001b[0m \u001b[0;32mimport\u001b[0m \u001b[0mmatplotlib\u001b[0m\u001b[0;34m.\u001b[0m\u001b[0mdates\u001b[0m \u001b[0;32mas\u001b[0m \u001b[0mmdates\u001b[0m\u001b[0;34m\u001b[0m\u001b[0;34m\u001b[0m\u001b[0m\n\u001b[0;32m----> 6\u001b[0;31m \u001b[0;32mimport\u001b[0m \u001b[0mseaborn\u001b[0m \u001b[0;32mas\u001b[0m \u001b[0msns\u001b[0m\u001b[0;34m\u001b[0m\u001b[0;34m\u001b[0m\u001b[0m\n\u001b[0m\u001b[1;32m      7\u001b[0m \u001b[0;32mfrom\u001b[0m \u001b[0mnumpy\u001b[0m \u001b[0;32mimport\u001b[0m \u001b[0mlog\u001b[0m\u001b[0;34m\u001b[0m\u001b[0;34m\u001b[0m\u001b[0m\n\u001b[1;32m      8\u001b[0m \u001b[0;32mfrom\u001b[0m \u001b[0mstatsmodels\u001b[0m\u001b[0;34m.\u001b[0m\u001b[0mtsa\u001b[0m\u001b[0;34m.\u001b[0m\u001b[0mstattools\u001b[0m \u001b[0;32mimport\u001b[0m \u001b[0madfuller\u001b[0m\u001b[0;34m\u001b[0m\u001b[0;34m\u001b[0m\u001b[0m\n",
      "\u001b[0;31mModuleNotFoundError\u001b[0m: No module named 'seaborn'"
     ]
    }
   ],
   "source": [
    "import pandas as pd\n",
    "import numpy as np\n",
    "from matplotlib import pyplot\n",
    "import matplotlib.pyplot as plt\n",
    "import matplotlib.dates as mdates\n",
    "import seaborn as sns\n",
    "from numpy import log\n",
    "from statsmodels.tsa.stattools import adfuller\n",
    "from pandas.plotting import autocorrelation_plot\n",
    "from statsmodels.graphics.tsaplots import plot_pacf\n",
    "from statsmodels.tsa.arima_model import ARIMA\n",
    "from sklearn import datasets\n",
    "from sklearn.metrics import mean_squared_error\n",
    "from statsmodels.tsa.arima_model import ARIMA\n",
    "from datetime import datetime\n",
    "%matplotlib inline\n",
    "sns.set()\n",
    "\n",
    "from statsmodels.tsa.stattools import acf, pacf\n",
    "#import statsmodels.tsa.statespace.sarimax as SARIMAX"
   ]
  },
  {
   "cell_type": "markdown",
   "metadata": {},
   "source": [
    "## 1_ Data Collection"
   ]
  },
  {
   "cell_type": "markdown",
   "metadata": {},
   "source": [
    "### Transactions' DB"
   ]
  },
  {
   "cell_type": "code",
   "execution_count": null,
   "metadata": {},
   "outputs": [],
   "source": [
    "trans_df = pd.read_csv('/Users/mehrnazuser/Documents/Lavoro/BlueRockLogistics/Data/Trans_BLR.csv', usecols = [0, 1, 2, 3, 4, 5, 6, 7, 8, 9, 10, 11, 12, 13, 14, 15], sep =';', encoding = 'utf-8')\n",
    "trans_df.head()"
   ]
  },
  {
   "cell_type": "markdown",
   "metadata": {},
   "source": [
    "### Masters' DB"
   ]
  },
  {
   "cell_type": "code",
   "execution_count": null,
   "metadata": {},
   "outputs": [],
   "source": [
    "depot_add = pd.read_excel('/Users/mehrnazuser/Documents/Lavoro/BlueRockLogistics/Data/masterdata20190918.xlsx', sheet_name = 'Depot Account_Addreses')\n",
    "#depot_add.head()"
   ]
  },
  {
   "cell_type": "markdown",
   "metadata": {},
   "source": [
    "## 2_ Data Cleansing"
   ]
  },
  {
   "cell_type": "code",
   "execution_count": null,
   "metadata": {},
   "outputs": [],
   "source": [
    "#Type_List = ['COL', 'RET']\n",
    "#trans_df = trans_df.loc[trans_df['T_DOC_TYPE'].isin(Type_List)]\n",
    "trans_df = trans_df.loc[trans_df['T_DOC_TYPE'] == 'COL']\n",
    "\n",
    "trans_df['T_EFFECTIVE_DATE'] = pd.to_datetime(trans_df['T_EFFECTIVE_DATE'])\n",
    "trans_df['Date'] = trans_df.apply(lambda r:r['T_EFFECTIVE_DATE'].date(), axis = 1)\n",
    "trans_df = trans_df.dropna(subset = ['Date'])\n",
    "\n",
    "trans_df = trans_df[['Date', 'T_DOC_TYPE', 'T_SENDING_ID', 'T_RTI_NAME', 'T_ACT_HAND_OUT_QTY']]\n",
    "trans_df = trans_df.reset_index()\n",
    "trans_df = trans_df.drop('index', axis = 1)\n",
    "trans_df.head()"
   ]
  },
  {
   "cell_type": "code",
   "execution_count": null,
   "metadata": {},
   "outputs": [],
   "source": [
    "depot_add = depot_add[['name', 'code', 'country']]\n",
    "#depot_add.head()"
   ]
  },
  {
   "cell_type": "markdown",
   "metadata": {},
   "source": [
    "## 3_ Data Integration"
   ]
  },
  {
   "cell_type": "code",
   "execution_count": null,
   "metadata": {},
   "outputs": [],
   "source": [
    "trans_full = trans_df.join(depot_add.set_index('code'), on = 'T_SENDING_ID')\n",
    "trans_full = trans_full.drop(['T_SENDING_ID', 'T_DOC_TYPE'], axis =1)\n",
    "trans_full.head()"
   ]
  },
  {
   "cell_type": "markdown",
   "metadata": {},
   "source": [
    "## 4_ Filter (Country = Italy)"
   ]
  },
  {
   "cell_type": "code",
   "execution_count": null,
   "metadata": {},
   "outputs": [],
   "source": [
    "trans_full = trans_full.loc[trans_full['country'] == 'IT']\n",
    "trans_full = trans_full.sort_values('Date', ascending = True)\n",
    "#trans_full['name'].unique()"
   ]
  },
  {
   "cell_type": "markdown",
   "metadata": {},
   "source": [
    "## 5_ Functions"
   ]
  },
  {
   "cell_type": "code",
   "execution_count": null,
   "metadata": {},
   "outputs": [],
   "source": [
    "def RTI(df):\n",
    "    rti = df['T_RTI_NAME'].unique()\n",
    "    n = 0\n",
    "    for x in range(len(rti)):\n",
    "        n += 1\n",
    "        print('\\n' + str(n) + '_ ' + rti[x])\n",
    "    if len(rti) > 1:\n",
    "        n += 1\n",
    "        print('\\n' + str(n) + '_ ' + 'All Containers')\n",
    "    \n",
    "    #return df"
   ]
  },
  {
   "cell_type": "code",
   "execution_count": null,
   "metadata": {},
   "outputs": [],
   "source": [
    "def RTI_choice(df):\n",
    "    rt = df['T_RTI_NAME'].unique()\n",
    "    rti_list = []\n",
    "    q = raw_input('\\n Do you want to choose all RTIs? (Yes/No) : ')\n",
    "    if q == 'Yes':\n",
    "        df1 = df\n",
    "    elif q == 'No':\n",
    "        n = int(raw_input('\\n How many RTI(s) you want to choose: '))\n",
    "        if n >= 1:\n",
    "            for x in range (1, n):\n",
    "                rti = int(raw_input('\\n Enter your choice '+ str(x) + ': '))\n",
    "                rti_list.append(rt[rti])\n",
    "                x += 1\n",
    "\n",
    "        else:\n",
    "            rti = raw_input('\\n Enter the number of your choice: ')\n",
    "            rti_list = rt[rti]\n",
    "\n",
    "                \n",
    "    else:\n",
    "        print('\\n Invalid input.')\n",
    "\n",
    "    return rti_list\n",
    "    "
   ]
  },
  {
   "cell_type": "code",
   "execution_count": null,
   "metadata": {},
   "outputs": [],
   "source": [
    "def RTI_choice1(df):\n",
    "    rtt = df['T_RTI_NAME'].unique()\n",
    "    rti = (int(input('\\n Choose a container number from the list above: '))) - 1\n",
    "    if rti< len(rtt):\n",
    "        print('\\n Your choice is: ' + rtt[rti])\n",
    "        df = df.loc[df['T_RTI_NAME'] == rtt[rti]]\n",
    "    elif rti == len(rtt):\n",
    "        print('\\n You chose All RTIs in Germany.')\n",
    "\n",
    "    return df"
   ]
  },
  {
   "cell_type": "code",
   "execution_count": null,
   "metadata": {},
   "outputs": [],
   "source": [
    "def periodic_plot(df, p):\n",
    "    \n",
    "    depots = df['name'].unique()   \n",
    "    if (p == 'Weekly') :\n",
    "        #df = df.resample('1W').sum()\n",
    "        for x in range(len(depots)):\n",
    "            b = df.groupby(['Date', 'name']).sum().unstack('name', fill_value=0)\n",
    "            b.resample('1W').plot(figsize=(20,10), linewidth=5, fontsize=20)\n",
    "            plt.title('RTI Weekly Growth in Diverse Depots', fontsize=20)\n",
    "            plt.xlabel('Weekly', fontsize=20)\n",
    "            plt.show()\n",
    "            return b\n",
    "            \n",
    "            \n",
    "            \n",
    "            #df_depot = df.loc[df['name'] == depots[x].encode('utf-8')]\n",
    "            #df_depot = df_depot.resample('1W').sum()\n",
    "            #df_depot.plot(figsize=(20,10), linewidth=5, fontsize=20)\n",
    "            #plt.title(str(x+1) + '_ ' + depots[x], fontsize=20)\n",
    "            #plt.xlabel(p , fontsize=20);\n",
    "            #x += 1\n",
    "            #return df            \n",
    "        \n",
    "        \n",
    "        \n",
    "    elif (p == 'Monthly'):\n",
    "        for x in range(len(depots)):\n",
    "            df_depot = df[df['name'] == depots[x]]\n",
    "            df_depot = df_depot.resample('1M').sum()\n",
    "            x += 1\n",
    "    elif (p == 'Quarterly'):\n",
    "        for x in range(len(depots)):\n",
    "            df_depot = df[df['name'] == depots[x]]\n",
    "            df_depot = df_depot.resample('1Q').sum()\n",
    "            x += 1\n",
    "    else:\n",
    "        print('\\n Invalid input.')\n",
    "    \n",
    "    return df"
   ]
  },
  {
   "cell_type": "code",
   "execution_count": null,
   "metadata": {},
   "outputs": [],
   "source": [
    "def plot_prova(c):\n",
    "    b = c.groupby(['Date', 'name']).resample('1M').sum().unstack('name', fill_value=0)\n",
    "    b.plot(figsize=(20,10), linewidth=5, fontsize=20)\n",
    "    plt.title('RTI Monthly Growth in Diverse Depots', fontsize=20)\n",
    "    plt.xlabel('Monthly', fontsize=20)\n",
    "    plt.show()\n",
    "    return b"
   ]
  },
  {
   "cell_type": "markdown",
   "metadata": {},
   "source": [
    "## 6_ State of the Art"
   ]
  },
  {
   "cell_type": "code",
   "execution_count": null,
   "metadata": {
    "scrolled": false
   },
   "outputs": [],
   "source": [
    "print('\\n List of Containers in Italy: ')\n",
    "RTI(trans_full)"
   ]
  },
  {
   "cell_type": "code",
   "execution_count": null,
   "metadata": {
    "scrolled": false
   },
   "outputs": [],
   "source": [
    "c = RTI_choice1(trans_full)\n",
    "c = c.dropna()\n",
    "depots = c['name'].unique()\n",
    "\n",
    "c.Date = pd.to_datetime(c.Date)\n",
    "c = c.sort_values('Date', ascending = True)\n",
    "tutto = c\n",
    "c = c.groupby(['Date', 'name'], as_index = False).sum()\n",
    "c = c.set_index('Date')\n",
    "#c.head()"
   ]
  },
  {
   "cell_type": "code",
   "execution_count": null,
   "metadata": {},
   "outputs": [],
   "source": [
    "depo = c['name'].unique()\n",
    "print('\\n The list of depo(s) the chosen RTI is collected from is as follows:')\n",
    "#b = bytes(depo)\n",
    "#str(b, encoding = 'utf-8')\n",
    "for x in range(len(depo)):\n",
    "    print('\\n' + str(x+1) + '_ ' + depo[x])\n",
    "    c.loc[c['name'] == depo[x]]\n"
   ]
  },
  {
   "cell_type": "markdown",
   "metadata": {},
   "source": [
    "## 7_ History of Transactions in every Italian Inventory"
   ]
  },
  {
   "cell_type": "markdown",
   "metadata": {},
   "source": [
    "### 7.1_ Daily basis"
   ]
  },
  {
   "cell_type": "code",
   "execution_count": null,
   "metadata": {},
   "outputs": [],
   "source": [
    "deps_q = c.groupby(['Date', 'name'])['T_ACT_HAND_OUT_QTY'].sum()\n",
    "deps_q.unstack('name', fill_value=0).plot(figsize=(20,10), linewidth=5, fontsize=20)\n",
    "plt.title('History of Transactions in Italian Inventories', fontsize=20)\n",
    "plt.xlabel('Date (Daily basis)', fontsize=16)\n",
    "plt.ylabel('Quantity', fontsize=16)\n",
    "plt.show()"
   ]
  },
  {
   "cell_type": "markdown",
   "metadata": {},
   "source": [
    "### 7.2_ Weekly basis"
   ]
  },
  {
   "cell_type": "code",
   "execution_count": null,
   "metadata": {},
   "outputs": [],
   "source": [
    "c1 = c.groupby(['Date', 'name'])['T_ACT_HAND_OUT_QTY'].sum().unstack('name', fill_value=0)\n",
    "c_week = c1.resample('1W').sum()\n",
    "c_week.plot(figsize=(20,10), linewidth=5, fontsize=20)\n",
    "plt.title('History of Transactions in Italian Inventories', fontsize=20)\n",
    "plt.xlabel('Date (Weekly basis)', fontsize=16)\n",
    "plt.ylabel('Quantity', fontsize=16)\n",
    "plt.show()\n",
    "#c_week"
   ]
  },
  {
   "cell_type": "markdown",
   "metadata": {},
   "source": [
    "### 7.3_ Seasonal basis"
   ]
  },
  {
   "cell_type": "code",
   "execution_count": null,
   "metadata": {},
   "outputs": [],
   "source": [
    "# c1 = c.groupby(['Date', 'name'])['T_ACT_HAND_OUT_QTY'].sum().unstack('name', fill_value=0)\n",
    "deps_q_3m = c1.resample('3M').sum()\n",
    "deps_q_3m.plot(figsize=(20,10), linewidth=5, fontsize=20)\n",
    "plt.title('History of Transactions in Italian Inventories', fontsize=20)\n",
    "plt.xlabel('Date (Seasonal basis)', fontsize=16)\n",
    "plt.ylabel('Quantity', fontsize=16)\n",
    "plt.show()"
   ]
  },
  {
   "cell_type": "markdown",
   "metadata": {},
   "source": [
    "## 8_ All Transactions in Italy"
   ]
  },
  {
   "cell_type": "code",
   "execution_count": null,
   "metadata": {},
   "outputs": [],
   "source": [
    "tutto = tutto.groupby('Date').sum()\n",
    "tutto.plot(figsize=(12, 5), linewidth=5, fontsize=14, color = 'black')\n",
    "plt.title('Container Transactions in Italy', fontsize = 14)\n",
    "plt.xlabel('Date (Daily basis)', fontsize = 14)\n",
    "plt.ylabel('Quantity', fontsize = 14)\n",
    "plt.show()"
   ]
  },
  {
   "cell_type": "markdown",
   "metadata": {},
   "source": [
    "### 8.1_ Seasonal Aggregation"
   ]
  },
  {
   "cell_type": "code",
   "execution_count": null,
   "metadata": {},
   "outputs": [],
   "source": [
    "ita_3m = tutto.resample('3M').sum()\n",
    "ita_3m.plot(figsize=(12, 5), linewidth=5, fontsize = 14, color = 'black')\n",
    "plt.title('Container Transactions in Italy', fontsize = 14)\n",
    "plt.xlabel('Date (Seasonal basis)', fontsize = 14)\n",
    "plt.ylabel('Quantity', fontsize = 14)\n",
    "plt.show()"
   ]
  },
  {
   "cell_type": "markdown",
   "metadata": {},
   "source": [
    "#### 8.1.1_ AutoCorrelation Function"
   ]
  },
  {
   "cell_type": "code",
   "execution_count": null,
   "metadata": {},
   "outputs": [],
   "source": [
    "#depot = c['name'].nunique()\n",
    "ita_3m_q = ita_3m[['T_ACT_HAND_OUT_QTY']].dropna()\n",
    "#tutti = tutto_week[['T_ACT_HAND_OUT_QTY']].dropna()\n",
    "ita_3m_acf = acf(ita_3m_q, nlags=10)\n",
    "plt.figure(figsize=(12, 5))\n",
    "plt.plot(ita_3m_acf, marker=\"o\", color = 'black')\n",
    "plt.axhline(y=0,linestyle='--',color='gray')\n",
    "plt.axhline(y=-1.96/np.sqrt(len(depo)),linestyle='--',color='gray')\n",
    "plt.axhline(y=1.96/np.sqrt(len(depo)),linestyle='--',color='gray')\n",
    "plt.title('ACF_Italy', fontsize = 14)\n",
    "plt.xlabel('number of lags', fontsize = 14)\n",
    "plt.ylabel('Autocorrelation', fontsize = 14)\n",
    "plt.tight_layout()"
   ]
  },
  {
   "cell_type": "markdown",
   "metadata": {},
   "source": [
    "#### 8.1.2_ Partial AutoCorrelation Function"
   ]
  },
  {
   "cell_type": "code",
   "execution_count": null,
   "metadata": {
    "scrolled": false
   },
   "outputs": [],
   "source": [
    "ita_3m_pacf = pacf(ita_3m_q, nlags = 10 , method='ols')\n",
    "#Plot PACF:\n",
    "plt.figure(figsize=(12, 5))\n",
    "plt.plot(ita_3m_pacf, marker='+', color = 'black')\n",
    "plt.axhline(y=0,linestyle='--',color='gray')\n",
    "plt.axhline(y=-1.96/np.sqrt(len(depo)),linestyle='--',color='gray')\n",
    "plt.axhline(y=1.96/np.sqrt(len(depo)),linestyle='--',color='gray')\n",
    "plt.title('PACF_Italy', fontsize=14)    \n",
    "plt.xlabel('Number of lags', fontsize = 14)\n",
    "plt.ylabel('Partial Autocorrelation', fontsize = 14)\n",
    "plt.tight_layout()"
   ]
  },
  {
   "cell_type": "markdown",
   "metadata": {},
   "source": [
    "#### 8.1.3_ Prediction"
   ]
  },
  {
   "cell_type": "code",
   "execution_count": null,
   "metadata": {},
   "outputs": [],
   "source": [
    "X = ita_3m.values\n",
    "size = int(len(X) * 0.8)\n",
    "train_3m, test_3m = X[0:size], X[size:len(X)]\n",
    "history = [x for x in train_3m]"
   ]
  },
  {
   "cell_type": "code",
   "execution_count": null,
   "metadata": {},
   "outputs": [],
   "source": [
    "import statsmodels.api as sm\n",
    "\n",
    "my_order = (1,0,1)\n",
    "my_seasonal_order = (3,0,1,3)\n",
    "model = sm.tsa.statespace.SARIMAX(train_3m, order=my_order, seasonal_order=my_seasonal_order)\n",
    "model_fit = model.fit(disp = False)"
   ]
  },
  {
   "cell_type": "code",
   "execution_count": null,
   "metadata": {},
   "outputs": [],
   "source": [
    "yhat = model_fit.forecast(steps = 5)\n",
    "yhat"
   ]
  },
  {
   "cell_type": "code",
   "execution_count": null,
   "metadata": {},
   "outputs": [],
   "source": [
    "test_3m"
   ]
  },
  {
   "cell_type": "code",
   "execution_count": null,
   "metadata": {},
   "outputs": [],
   "source": [
    "plt.figure(figsize=(12, 5))\n",
    "pyplot.plot(test_3m, color = 'black', label = 'testing_set')\n",
    "pyplot.plot(yhat, color = 'red', label = 'forecast()')\n",
    "plt.legend()\n",
    "plt.title('Prediction vs. Testing-set', fontsize=14)    \n",
    "plt.xlabel('Number of lags', fontsize = 14)\n",
    "plt.ylabel('Quantity', fontsize = 14)"
   ]
  },
  {
   "cell_type": "markdown",
   "metadata": {},
   "source": [
    "#### 8.1.4_ Accuracy"
   ]
  },
  {
   "cell_type": "code",
   "execution_count": null,
   "metadata": {},
   "outputs": [],
   "source": [
    "mse_Italy_3m = mean_squared_error(test_3m, yhat)\n",
    "print('MSE: ' + str(mse_Italy_3m))"
   ]
  },
  {
   "cell_type": "markdown",
   "metadata": {},
   "source": [
    "### 8.2_ Differencing the Time-Series (Seasonal Aggregation)"
   ]
  },
  {
   "cell_type": "code",
   "execution_count": null,
   "metadata": {},
   "outputs": [],
   "source": [
    "ita_3m_diff = ita_3m.diff()\n",
    "ita_3m_diff.plot(figsize=(12,5), linewidth=5, fontsize=14, color = 'black')\n",
    "plt.title('Differenced RTI Growth in Italy', fontsize=14)\n",
    "plt.xlabel('Date (Seasonal basis)', fontsize=14)\n",
    "plt.show()"
   ]
  },
  {
   "cell_type": "markdown",
   "metadata": {},
   "source": [
    "#### 8.2.1_ ACF"
   ]
  },
  {
   "cell_type": "code",
   "execution_count": null,
   "metadata": {},
   "outputs": [],
   "source": [
    "ita_3m_diff_q = ita_3m_diff[['T_ACT_HAND_OUT_QTY']].dropna()\n",
    "#tutti = tutto_week[['T_ACT_HAND_OUT_QTY']].dropna()\n",
    "ita_3m_diff_acf = acf(ita_3m_diff_q, nlags=10)\n",
    "plt.figure(figsize=(12, 5))\n",
    "plt.plot(ita_3m_diff_acf, marker=\"o\", color = 'black')\n",
    "plt.axhline(y=0,linestyle='--',color='gray')\n",
    "plt.axhline(y=-1.96/np.sqrt(len(depo)),linestyle='--',color='gray')\n",
    "plt.axhline(y=1.96/np.sqrt(len(depo)),linestyle='--',color='gray')\n",
    "plt.title('ACF_Differenced Data', fontsize = 14)\n",
    "plt.xlabel('number of lags', fontsize = 14)\n",
    "plt.ylabel('Autocorrelation', fontsize = 14)\n",
    "plt.tight_layout()"
   ]
  },
  {
   "cell_type": "markdown",
   "metadata": {},
   "source": [
    "#### 8.2.2_ PACF"
   ]
  },
  {
   "cell_type": "code",
   "execution_count": null,
   "metadata": {},
   "outputs": [],
   "source": [
    "ita_3m_diff_pacf = pacf(ita_3m_diff_q, nlags = 10 , method='ols')\n",
    "#Plot PACF:\n",
    "plt.figure(figsize=(12, 5))\n",
    "plt.plot(ita_3m_diff_pacf, marker='+', color = 'black')\n",
    "plt.axhline(y=0,linestyle='--',color='gray')\n",
    "plt.axhline(y=-1.96/np.sqrt(len(depo)),linestyle='--',color='gray')\n",
    "plt.axhline(y=1.96/np.sqrt(len(depo)),linestyle='--',color='gray')\n",
    "plt.title('PACF_Differenced Data', fontsize=14)    \n",
    "plt.xlabel('Number of lags', fontsize = 14)\n",
    "plt.ylabel('Partial Autocorrelation', fontsize = 14)\n",
    "plt.tight_layout()"
   ]
  },
  {
   "cell_type": "markdown",
   "metadata": {},
   "source": [
    "#### 8.2.3_ Prediction"
   ]
  },
  {
   "cell_type": "code",
   "execution_count": null,
   "metadata": {},
   "outputs": [],
   "source": [
    "import statsmodels.api as sm\n",
    "\n",
    "my_order = (1,1,1)\n",
    "my_seasonal_order = (3,1,1,3)\n",
    "model_diff = sm.tsa.statespace.SARIMAX(train_3m, order=my_order, seasonal_order=my_seasonal_order)\n",
    "model_diff_fit = model_diff.fit(disp = False)"
   ]
  },
  {
   "cell_type": "code",
   "execution_count": null,
   "metadata": {},
   "outputs": [],
   "source": [
    "yhat_diff = model_diff_fit.forecast(steps = 5, typ = 'levels')\n",
    "yhat_diff"
   ]
  },
  {
   "cell_type": "code",
   "execution_count": null,
   "metadata": {},
   "outputs": [],
   "source": [
    "plt.figure(figsize=(12, 5))\n",
    "pyplot.plot(test_3m, color = 'black', label = 'testing_set')\n",
    "pyplot.plot(yhat_diff, color = 'gold', label = 'diff. forecast()')\n",
    "pyplot.plot(yhat, color = 'red', label = 'forecast()')\n",
    "plt.legend()\n",
    "plt.title('Comparison Among Testing-set & Prediction Methods', fontsize=14)    \n",
    "plt.xlabel('Number of lags', fontsize = 14)\n",
    "plt.ylabel('Quantity', fontsize = 14)"
   ]
  },
  {
   "cell_type": "markdown",
   "metadata": {},
   "source": [
    "#### 8.2.4_ Accuracy"
   ]
  },
  {
   "cell_type": "code",
   "execution_count": null,
   "metadata": {},
   "outputs": [],
   "source": [
    "mse_Italy_diff_3m = mean_squared_error(test_3m, yhat_diff)\n",
    "\n",
    "if(mse_Italy_diff_3m < mse_Italy_3m):\n",
    "    print(\"The YELLOW line is more accurate\")\n",
    "    print(\"\\nDifferencing makes the prediction more Accurate.\")\n",
    "elif(mse_Italy_diff_3m > mse_Italy_3m):\n",
    "    print(\"The RED line is more accurate\")\n",
    "    print(\"\\nThus, differencing does NOT make the prediction more Accurate.\")"
   ]
  },
  {
   "cell_type": "markdown",
   "metadata": {},
   "source": [
    "### 8.3_ Aggregation on 6 months' basis"
   ]
  },
  {
   "cell_type": "code",
   "execution_count": null,
   "metadata": {},
   "outputs": [],
   "source": [
    "ita_6m = tutto.resample('6M').sum()\n",
    "ita_6m.plot(figsize=(12, 5), linewidth=5, fontsize = 14, color = 'brown')\n",
    "plt.title('Container Transaction in Italy', fontsize = 14)\n",
    "plt.xlabel('Date (aggregation of every 6 months)', fontsize = 14)\n",
    "plt.show()"
   ]
  },
  {
   "cell_type": "markdown",
   "metadata": {},
   "source": [
    "#### 8.3.1_ ACF"
   ]
  },
  {
   "cell_type": "code",
   "execution_count": null,
   "metadata": {},
   "outputs": [],
   "source": [
    "ita_6m_q = ita_6m[['T_ACT_HAND_OUT_QTY']].dropna()\n",
    "#tutti = tutto_week[['T_ACT_HAND_OUT_QTY']].dropna()\n",
    "ita_6m_acf = acf(ita_6m_q, nlags=10)\n",
    "plt.figure(figsize=(12, 5))\n",
    "plt.plot(ita_6m_acf, marker=\"o\", color = 'brown')\n",
    "plt.axhline(y=0,linestyle='--',color='gray')\n",
    "plt.axhline(y=-1.96/np.sqrt(len(depo)),linestyle='--',color='gray')\n",
    "plt.axhline(y=1.96/np.sqrt(len(depo)),linestyle='--',color='gray')\n",
    "plt.title('ACF_Italy', fontsize = 14)\n",
    "plt.xlabel('number of lags', fontsize = 14)\n",
    "plt.ylabel('Autocorrelation', fontsize = 14)\n",
    "plt.tight_layout()"
   ]
  },
  {
   "cell_type": "markdown",
   "metadata": {},
   "source": [
    "#### 8.3.2_ PACF"
   ]
  },
  {
   "cell_type": "code",
   "execution_count": null,
   "metadata": {},
   "outputs": [],
   "source": [
    "ita_6m_pacf = pacf(ita_6m_q, nlags = 10 , method='ols')\n",
    "#Plot PACF:\n",
    "plt.figure(figsize=(12, 5))\n",
    "plt.plot(ita_6m_pacf, marker='+', color = 'brown')\n",
    "plt.axhline(y=0,linestyle='--',color='gray')\n",
    "plt.axhline(y=-1.96/np.sqrt(len(depo)),linestyle='--',color='gray')\n",
    "plt.axhline(y=1.96/np.sqrt(len(depo)),linestyle='--',color='gray')\n",
    "plt.title('PACF_Italy', fontsize = 14)    \n",
    "plt.xlabel('Number of lags', fontsize = 14)\n",
    "plt.ylabel('Partial Autocorrelation', fontsize = 14)\n",
    "plt.tight_layout()"
   ]
  },
  {
   "cell_type": "markdown",
   "metadata": {},
   "source": [
    "#### 8.3.3_ Prediction"
   ]
  },
  {
   "cell_type": "code",
   "execution_count": null,
   "metadata": {},
   "outputs": [],
   "source": [
    "Z = ita_3m.values\n",
    "size = int(len(Z) * 0.8)\n",
    "train_6m, test_6m = Z[0:size], Z[size:len(Z)]\n",
    "history = [z for z in train_6m]"
   ]
  },
  {
   "cell_type": "code",
   "execution_count": null,
   "metadata": {},
   "outputs": [],
   "source": [
    "my_order = (2,0,0)\n",
    "my_seasonal_order = (2,0,0,6)\n",
    "model_6m = sm.tsa.statespace.SARIMAX(train_6m, order=my_order, seasonal_order=my_seasonal_order)\n",
    "model_6m_fit = model_6m.fit(disp = False)"
   ]
  },
  {
   "cell_type": "code",
   "execution_count": null,
   "metadata": {},
   "outputs": [],
   "source": [
    "yhat_6m = model_6m_fit.forecast(steps = 5, typ = 'levels')\n",
    "yhat_6m"
   ]
  },
  {
   "cell_type": "code",
   "execution_count": null,
   "metadata": {},
   "outputs": [],
   "source": [
    "arima6m_fit = ARIMA(train_6m, order=my_order).fit(disp = False)\n",
    "arima_yhat = arima6m_fit.forecast(steps = 5)[0]\n",
    "arima_yhat"
   ]
  },
  {
   "cell_type": "code",
   "execution_count": null,
   "metadata": {},
   "outputs": [],
   "source": [
    "plt.figure(figsize=(12, 5))\n",
    "pyplot.plot(test_6m, color = 'brown', label = 'testing_set')\n",
    "#pyplot.plot(yhat_diff, color = 'gold')\n",
    "pyplot.plot(yhat_6m, color = 'red', label = 'forecast()')\n",
    "pyplot.plot(arima_yhat, color = 'blue', label = 'ARIMA')\n",
    "plt.legend()\n",
    "plt.title('Comparison Among Testing-set, Forecast() & ARIMA', fontsize=14)    \n",
    "plt.xlabel('Number of lags', fontsize = 14)\n",
    "plt.ylabel('Quantity', fontsize = 14)"
   ]
  },
  {
   "cell_type": "markdown",
   "metadata": {},
   "source": [
    "#### 8.3.4_ Accuracy"
   ]
  },
  {
   "cell_type": "code",
   "execution_count": null,
   "metadata": {},
   "outputs": [],
   "source": [
    "mse_arima_6m = mean_squared_error(test_6m, arima_yhat)\n",
    "mse_yhat_6m = mean_squared_error(test_6m, yhat_6m)\n",
    "\n",
    "if(mse_arima_6m < mse_yhat_6m):\n",
    "    print(\"The BLUE line is more accurate.\")\n",
    "elif(mse_arima_6m > mse_yhat_6m):\n",
    "    print(\"The RED line is more accurate.\")"
   ]
  },
  {
   "cell_type": "markdown",
   "metadata": {},
   "source": [
    "### 8.4_ Differencing the Time-Series (6m)"
   ]
  },
  {
   "cell_type": "code",
   "execution_count": null,
   "metadata": {},
   "outputs": [],
   "source": [
    "ita_6m_diff = ita_6m.diff()\n",
    "ita_6m_diff.plot(figsize=(12, 5), linewidth=5, fontsize=14, color = 'brown')\n",
    "plt.title('Differenced RTI Growth in Italy', fontsize=14)\n",
    "plt.xlabel('Date (aggregation of 6m)', fontsize=14)\n",
    "plt.ylabel('Quantity', fontsize = 14)\n",
    "plt.show()"
   ]
  },
  {
   "cell_type": "markdown",
   "metadata": {},
   "source": [
    "#### 8.4.1_ Prediction"
   ]
  },
  {
   "cell_type": "code",
   "execution_count": null,
   "metadata": {},
   "outputs": [],
   "source": [
    "my_order_diff = (1,1,0)\n",
    "my_seasonal_order = (1,1,0,6)\n",
    "model_diff6m = sm.tsa.statespace.SARIMAX(train_6m, order=my_order, seasonal_order=my_seasonal_order)\n",
    "model_diff6m_fit = model_diff6m.fit(disp = False)"
   ]
  },
  {
   "cell_type": "code",
   "execution_count": null,
   "metadata": {},
   "outputs": [],
   "source": [
    "yhat_6m_diff = model_6m_fit.forecast(steps = 5, typ = 'levels')\n",
    "yhat_6m_diff"
   ]
  },
  {
   "cell_type": "code",
   "execution_count": null,
   "metadata": {},
   "outputs": [],
   "source": [
    "plt.figure(figsize=(12, 5))\n",
    "pyplot.plot(test_6m, color = 'brown', label = 'testing_set')\n",
    "pyplot.plot(yhat_diff, color = 'gold', label = 'diff. forecast()')\n",
    "pyplot.plot(yhat_6m, color = 'red', label = 'forecast()')\n",
    "pyplot.plot(arima_yhat, color = 'blue', label = 'ARIMA')\n",
    "plt.legend()\n",
    "plt.title('Comparison Among Testing-set(6m) & Diverse Forecasting Methods', fontsize=14)    \n",
    "plt.xlabel('Number of lags', fontsize = 14)\n",
    "plt.ylabel('Quantity', fontsize = 14)"
   ]
  },
  {
   "cell_type": "markdown",
   "metadata": {},
   "source": [
    "#### 8.4.2_ Accuracy"
   ]
  },
  {
   "cell_type": "code",
   "execution_count": null,
   "metadata": {},
   "outputs": [],
   "source": [
    "mse_yhat_diff_6m = mean_squared_error(test_6m, yhat_diff)\n",
    "\n",
    "if (min(mse_arima_6m, mse_yhat_6m, mse_yhat_diff_6m) == mse_arima_6m):\n",
    "    print(\"the BLUE line indicating ARIMA method is more accurate.\")\n",
    "    \n",
    "if (min(mse_arima_6m, mse_yhat_6m, mse_yhat_diff_6m) == mse_yhat_6m):\n",
    "    print(\"the RED line indicating forecast() method is more accurate.\")\n",
    "\n",
    "if (min(mse_arima_6m, mse_yhat_6m, mse_yhat_diff_6m) == mse_yhat_diff_6m):\n",
    "    print(\"the YELLOW line indicating forecast() method on differenced data is more accurate.\")"
   ]
  }
 ],
 "metadata": {
  "kernelspec": {
   "display_name": "Python 3",
   "language": "python",
   "name": "python3"
  },
  "language_info": {
   "codemirror_mode": {
    "name": "ipython",
    "version": 3
   },
   "file_extension": ".py",
   "mimetype": "text/x-python",
   "name": "python",
   "nbconvert_exporter": "python",
   "pygments_lexer": "ipython3",
   "version": "3.7.3"
  }
 },
 "nbformat": 4,
 "nbformat_minor": 2
}
